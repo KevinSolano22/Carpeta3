{
  "nbformat": 4,
  "nbformat_minor": 0,
  "metadata": {
    "colab": {
      "provenance": [],
      "authorship_tag": "ABX9TyMoayaCEQyZoV4dwu/gESOS",
      "include_colab_link": true
    },
    "kernelspec": {
      "name": "python3",
      "display_name": "Python 3"
    },
    "language_info": {
      "name": "python"
    }
  },
  "cells": [
    {
      "cell_type": "markdown",
      "metadata": {
        "id": "view-in-github",
        "colab_type": "text"
      },
      "source": [
        "<a href=\"https://colab.research.google.com/github/KevinSolano22/Carpeta3/blob/main/Untitled7.ipynb\" target=\"_parent\"><img src=\"https://colab.research.google.com/assets/colab-badge.svg\" alt=\"Open In Colab\"/></a>"
      ]
    },
    {
      "cell_type": "code",
      "execution_count": null,
      "metadata": {
        "colab": {
          "base_uri": "https://localhost:8080/"
        },
        "id": "IUd6lgNp6cZX",
        "outputId": "bc9324fc-125e-4d68-d932-20c3c8013bb0"
      },
      "outputs": [
        {
          "output_type": "stream",
          "name": "stdout",
          "text": [
            "La matriz inversa es:\n",
            "[[4.44950894e-04 4.14256978e-05]\n",
            " [4.14256978e-05 4.44950894e-04]]\n"
          ]
        }
      ],
      "source": [
        "import numpy as np\n",
        "\n",
        "# Definir la matriz\n",
        "A = np.array([[2267.09, -211.07],\n",
        "              [-211.07, 2267.09]])\n",
        "\n",
        "# Calcular la matriz inversa\n",
        "try:\n",
        "    inversa = np.linalg.inv(A)\n",
        "    print(\"La matriz inversa es:\")\n",
        "    print(inversa)\n",
        "except np.linalg.LinAlgError:\n",
        "    print(\"La matriz no tiene inversa (es singular).\")\n"
      ]
    },
    {
      "cell_type": "code",
      "source": [
        "import numpy as np\n",
        "\n",
        "# Definir una matriz 3x2\n",
        "A = np.array([[-498.92, -188.99],\n",
        "              [-108.64, -204.91],\n",
        "              [-101.29, -71.45]])\n",
        "\n",
        "# Definir una matriz 2x2\n",
        "B = np.array([[4.44950894e-04, 4.14256978e-05],\n",
        "              [4.14256978e-05, 4.44950894e-04]])\n",
        "\n",
        "# Multiplicar las matrices\n",
        "C = A @ B  # También puedes usar np.dot(A, B)\n",
        "\n",
        "print(\"El resultado de la multiplicación es:\")\n",
        "print(C)\n"
      ],
      "metadata": {
        "colab": {
          "base_uri": "https://localhost:8080/"
        },
        "id": "uUkHRm1A8r5x",
        "outputId": "372a5c8d-56a3-4964-8d0a-7d9cb981eef0"
      },
      "execution_count": null,
      "outputs": [
        {
          "output_type": "stream",
          "name": "stdout",
          "text": [
            "El resultado de la multiplicación es:\n",
            "[[-0.22982394 -0.10475938]\n",
            " [-0.056828   -0.09567538]\n",
            " [-0.04802894 -0.03598775]]\n"
          ]
        }
      ]
    },
    {
      "cell_type": "code",
      "source": [
        "import numpy as np\n",
        "\n",
        "# Definir una matriz 3x2\n",
        "A = np.array([[-0.22982394, -0.10475938],\n",
        "              [-0.056828,   -0.09567538],\n",
        "              [-0.04802894, -0.03598775]])\n",
        "\n",
        "# Definir una matriz 2x3\n",
        "B = np.array([[-498.92, -108.64, -101.29],\n",
        "              [-188.99, -204.91, -71.45]])\n",
        "\n",
        "# Multiplicar las matrices\n",
        "C = A @ B  # También puedes usar np.dot(A, B)\n",
        "\n",
        "print(\"El resultado de la multiplicación es:\")\n",
        "print(C)\n"
      ],
      "metadata": {
        "colab": {
          "base_uri": "https://localhost:8080/"
        },
        "id": "Z-lSWMxv-33S",
        "outputId": "c345f6b5-6bcd-4994-a6bc-7e5e7652e82a"
      },
      "execution_count": null,
      "outputs": [
        {
          "output_type": "stream",
          "name": "stdout",
          "text": [
            "El resultado de la multiplicación es:\n",
            "[[134.46223537  46.4343174   30.76392458]\n",
            " [ 46.43431583  25.77863604  12.59211402]\n",
            " [ 30.76392362  12.59211389   7.43617607]]\n"
          ]
        }
      ]
    },
    {
      "cell_type": "code",
      "source": [
        "import numpy as np\n",
        "\n",
        "# Definir la primera matriz 3x3\n",
        "A = np.array([[2585.83, -145.78, -165.36],\n",
        "              [-145.78, 2557.32, -144.52],\n",
        "              [-165.36, -144.52, 2543.51]])\n",
        "\n",
        "# Definir la segunda matriz 3x3\n",
        "B = np.array([[134.462, 46.434, 30.764],\n",
        "              [46.434, 25.778, 12.592],\n",
        "              [30.764, 12.592, 7.436]])\n",
        "\n",
        "# Restar las matrices\n",
        "C = A - B\n",
        "\n",
        "print(\"El resultado de la resta es:\")\n",
        "print(C)\n"
      ],
      "metadata": {
        "colab": {
          "base_uri": "https://localhost:8080/"
        },
        "id": "gAZa7mVhAOZ-",
        "outputId": "82068a0c-7ab8-457d-aff7-879c069ac71d"
      },
      "execution_count": null,
      "outputs": [
        {
          "output_type": "stream",
          "name": "stdout",
          "text": [
            "El resultado de la resta es:\n",
            "[[2451.368 -192.214 -196.124]\n",
            " [-192.214 2531.542 -157.112]\n",
            " [-196.124 -157.112 2536.074]]\n"
          ]
        }
      ]
    }
  ]
}